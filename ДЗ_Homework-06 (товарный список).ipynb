{
 "cells": [
  {
   "cell_type": "code",
   "execution_count": 7,
   "metadata": {},
   "outputs": [
    {
     "name": "stdout",
     "output_type": "stream",
     "text": [
      "Введите артикул: B81431\n",
      "part:  B81431 \n",
      "name:  Антифриз BIZOL G12+ красный (концентрант) 5л \n",
      "status:  В наличии \n",
      "price: 798.0\n",
      "кол-во товарных позиций: 426\n",
      "кол-во товара в наличии 353\n",
      "Товары с ароматом яблока:\n",
      "['Омыватель стекла летний (концентрат) яблоко 0.25л Liqui Moly', 'В наличии', 196.0]\n",
      "['Омыватель стекла летний аромат яблока 1л (концентрат) Liqui Moly', 'В наличии', 73.0]\n",
      "['Омыватель стекла летний аромат яблока 2л Liqui Moly', 'В наличии', 85.0]\n",
      "['Освежитель воздуха Areon Mon Classic аромат яблока', 'Нет в наличии', 17.0]\n",
      "['Освежитель воздуха гелевый Areon аромат яблока', 'В наличии', 35.0]\n",
      "['Освежитель воздуха ёлка (ароматизатор) Zollex аромат яблока', 'Нет в наличии', 10.0]\n"
     ]
    }
   ],
   "source": [
    "f = open ('Dz61.txt', encoding = 'utf-8')\n",
    "\n",
    "\n",
    "base = {}\n",
    "\n",
    "for line in f:\n",
    "    l = line.split('|')\n",
    "    if l[0] != 'Артикул':\n",
    "        base [l[0]] = [l[1],l[2], float(l[3].rstrip(' грн\\n'))]\n",
    "        # l[3].rstrip(' грн\\n') - удаление символа с конца строчки\n",
    "\n",
    "\n",
    "#програма, що запитує артикул товарної позиції, а повертає стрічку\n",
    "\n",
    "x = input (\"Введите артикул: \")\n",
    "\n",
    "a = 0\n",
    "for key in base:\n",
    "    if x == key:\n",
    "        a = key\n",
    "        \n",
    "if a != 0:\n",
    "    print( 'part: ',a, '\\nname: ', base[a][0], '\\nstatus: ', base[a][1], '\\nprice:', base[a][2])\n",
    "else:\n",
    "    print (\"nope\")\n",
    "\n",
    "#кол-во товарных позиций:\n",
    "rows = len(base)\n",
    "print (\"кол-во товарных позиций:\", rows)\n",
    "\n",
    "#кол-во позиций что в наличии:\n",
    "i = 0\n",
    "for k,v in base.items():\n",
    "    if v[1] == \"В наличии\":\n",
    "        i = i + 1\n",
    "        \n",
    "print(\"кол-во товара в наличии\", i)\n",
    "\n",
    "#Знайдіть всі товари, у яких аромат яблука, та виведіть їх. \n",
    "print(\"Товары с ароматом яблока:\")\n",
    "\n",
    "for values in base:\n",
    "     if 'ябл' in base[values][0]:\n",
    "\n",
    "        print(base[values])\n",
    "        "
   ]
  },
  {
   "cell_type": "code",
   "execution_count": null,
   "metadata": {},
   "outputs": [],
   "source": []
  }
 ],
 "metadata": {
  "kernelspec": {
   "display_name": "Python 3",
   "language": "python",
   "name": "python3"
  },
  "language_info": {
   "codemirror_mode": {
    "name": "ipython",
    "version": 3
   },
   "file_extension": ".py",
   "mimetype": "text/x-python",
   "name": "python",
   "nbconvert_exporter": "python",
   "pygments_lexer": "ipython3",
   "version": "3.8.3"
  }
 },
 "nbformat": 4,
 "nbformat_minor": 4
}
