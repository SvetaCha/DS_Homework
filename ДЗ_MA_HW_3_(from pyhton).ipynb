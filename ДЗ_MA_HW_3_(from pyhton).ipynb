{
 "cells": [
  {
   "cell_type": "markdown",
   "metadata": {},
   "source": [
    "Завдання 1\n",
    "Дано ціле число. Якщо воно додатнє, то помножити його на 2; в іншому випадку не змінювати його.\n",
    "    Вивести кінцеве значення."
   ]
  },
  {
   "cell_type": "code",
   "execution_count": null,
   "metadata": {},
   "outputs": [],
   "source": [
    "a = int(input())\n",
    "\n",
    "if a%2 == 0:\n",
    "    print (a*2)\n",
    "else:\n",
    "    print(a)\n"
   ]
  },
  {
   "cell_type": "markdown",
   "metadata": {},
   "source": [
    "Завдання 2\n",
    "    Дано два цілих числа. Якщо вони рівні, то присвоїти цим змінним нулі;\n",
    "    в іншому випадку  - кожній змінній присвоїти суму цих значень."
   ]
  },
  {
   "cell_type": "code",
   "execution_count": null,
   "metadata": {},
   "outputs": [],
   "source": [
    "a = int(input())\n",
    "b = int(input())\n",
    "\n",
    "\n",
    "if a == b:\n",
    "    a = b = 0\n",
    "    print (a, b)\n",
    "\n",
    "else:\n",
    "    a = b = a + b\n",
    "    print (a, b)\n"
   ]
  },
  {
   "cell_type": "markdown",
   "metadata": {},
   "source": [
    "Завдання 3\n",
    "    Дано три цілих числа. Знайти суму двох найбільших із них."
   ]
  },
  {
   "cell_type": "code",
   "execution_count": null,
   "metadata": {},
   "outputs": [],
   "source": [
    "a = int(input())\n",
    "b = int(input())\n",
    "c = int(input())\n",
    "\n",
    "if a <= b <= c or a <= c <= b:\n",
    "    s1 = b + c\n",
    "    print (s1)\n",
    "    \n",
    "elif b <= a <= c or b <= c <= a:\n",
    "    s2 = a + c\n",
    "    print (s2)\n",
    "    \n",
    "elif c <= b <= a or c <= a <= b:\n",
    "    s3 = b + c\n",
    "    print (s3)\n",
    "\n",
    "\n"
   ]
  },
  {
   "cell_type": "markdown",
   "metadata": {},
   "source": [
    "Завдання 4\n",
    "    Дана стрічка. Якщо в цій стрічці відсутня буква \"a\", вивести \"False\".\n",
    "    Якщо буква зустрічається один раз - вивести її індекс.\n",
    "    Якщо більше одного разу - вивести індекс першого та останнього входження."
   ]
  },
  {
   "cell_type": "code",
   "execution_count": null,
   "metadata": {},
   "outputs": [],
   "source": [
    "s = 'isalpha'\n",
    "\n",
    "index1 = s.find(\"a\")\n",
    "index2 = s.rfind(\"a\")\n",
    "\n",
    "count = s.count('a')\n",
    "\n",
    "if count > 1:\n",
    "    print(index1) \n",
    "    print(index2)\n",
    "    \n",
    "elif count == 1:\n",
    "    print(index1)\n",
    "    \n",
    "else:\n",
    "    print (False)   "
   ]
  },
  {
   "cell_type": "markdown",
   "metadata": {},
   "source": [
    "Завдання 5\n",
    "    Дано одне число Price - ціна на 1 кг апельсин. \n",
    "    Вивести вартість 1, 2, ... , 10 кг апельсин.\n",
    "    (Спробуйте вирішити задачу двома способами: циклом FOR та циклом WHILE)"
   ]
  },
  {
   "cell_type": "code",
   "execution_count": null,
   "metadata": {},
   "outputs": [],
   "source": [
    "Price = 5\n",
    "\n",
    "i = 0\n",
    "while i < 10:\n",
    "    i = i + 1\n",
    "    print (i,'кг', i*Price,'грн')\n"
   ]
  },
  {
   "cell_type": "code",
   "execution_count": null,
   "metadata": {},
   "outputs": [],
   "source": []
  },
  {
   "cell_type": "code",
   "execution_count": null,
   "metadata": {},
   "outputs": [],
   "source": [
    "Price = 5\n",
    "for i in range(1, 11):\n",
    "    print(i*Price)"
   ]
  },
  {
   "cell_type": "markdown",
   "metadata": {},
   "source": [
    "Дано ціле число. Для цього числа виведіть сходинки.\n",
    "    Наприклад, для числа 5 результат наступний:\n",
    "        #\n",
    "        ##\n",
    "        ###\n",
    "        ####\n",
    "        #####\n",
    " "
   ]
  },
  {
   "cell_type": "code",
   "execution_count": null,
   "metadata": {},
   "outputs": [],
   "source": [
    "a = int (input())\n",
    "\n",
    "i=0\n",
    "while i <=a:\n",
    "    print ('#'*i)\n",
    "    i +=1"
   ]
  },
  {
   "cell_type": "markdown",
   "metadata": {},
   "source": [
    "Завдання 7\n",
    "    Виведіть суму всіх непарних чисел, що кратні 5, в діапазоні від 0 до 1000."
   ]
  },
  {
   "cell_type": "code",
   "execution_count": null,
   "metadata": {},
   "outputs": [],
   "source": [
    "s = 0\n",
    "for i in range (0, 100, 5):\n",
    "    if i % 2 != 0:\n",
    "        s = s + i\n",
    "        print(s)\n",
    "    \n",
    "    "
   ]
  },
  {
   "cell_type": "markdown",
   "metadata": {},
   "source": [
    "Завдання 8\n",
    "    На карантині я розпочав бігові тренування. В перший день пробіг 500 метрів.\n",
    "    Кожний наступний день дистанцію збільшую на 10%. Відомо, що карантин триває 30 днів.\n",
    "    \n",
    "        - Яку дистанцію я пробіжу в останній день карантину?\n",
    "        \n",
    "        - Скільки днів потрібно бігати, щоб сумарна дистанція за всі дні \n",
    "            перевищила довжину марафону (42 км)?"
   ]
  },
  {
   "cell_type": "code",
   "execution_count": 14,
   "metadata": {},
   "outputs": [
    {
     "name": "stdout",
     "output_type": "stream",
     "text": [
      "в останній день карантину 8.724701134443205\n"
     ]
    }
   ],
   "source": [
    "a = 500\n",
    "s = i = 0\n",
    "\n",
    "for i in range (1, 31):\n",
    "    a = a + a*0.1\n",
    "    s = s + a\n",
    "print(\"в останній день карантину\",(a/1000))\n",
    "    \n",
    "if s <= 4200: \n",
    "    a = a + a*0.1\n",
    "    s = s + a\n",
    "    print (i, 'днів потрібно бігати для 42 км')"
   ]
  },
  {
   "cell_type": "code",
   "execution_count": 46,
   "metadata": {},
   "outputs": [
    {
     "name": "stdout",
     "output_type": "stream",
     "text": [
      "Всього пробіг 82.25\n",
      "в останній день карантину 8.72\n",
      "24 днів потрібно для 42 км\n"
     ]
    }
   ],
   "source": [
    "a = 500\n",
    "i = 0\n",
    "s = n = 0\n",
    "\n",
    "while 0 <= i < 30:\n",
    "    s += a\n",
    "    i += 1\n",
    "#    print(\"day\", i, 'run', round(a/1000, 2), 'total run', round(s/1000, 2))\n",
    "    a += a * 0.1\n",
    "    if s < 42000:\n",
    "        n += 1\n",
    "    \n",
    "         \n",
    "print(\"Всього пробіг\",(round(s/1000, 2)))\n",
    "print(\"в останній день карантину\",(round(a/1000, 2)))\n",
    "print(n + 1, 'днів потрібно для 42 км')\n",
    "\n",
    "\n"
   ]
  },
  {
   "cell_type": "code",
   "execution_count": 4,
   "metadata": {},
   "outputs": [
    {
     "name": "stdout",
     "output_type": "stream",
     "text": [
      "в останній день карантину 0.5\n",
      "в останній день карантину 0.55\n",
      "в останній день карантину 0.605\n",
      "в останній день карантину 0.6655\n",
      "в останній день карантину 0.73205\n",
      "в останній день карантину 0.8052549999999999\n",
      "в останній день карантину 0.8857805\n",
      "в останній день карантину 0.9743585499999999\n",
      "в останній день карантину 1.071794405\n",
      "в останній день карантину 1.1789738454999998\n",
      "в останній день карантину 1.2968712300499998\n",
      "в останній день карантину 1.4265583530549997\n",
      "в останній день карантину 1.5692141883604998\n",
      "в останній день карантину 1.7261356071965497\n",
      "в останній день карантину 1.8987491679162047\n",
      "в останній день карантину 2.088624084707825\n",
      "в останній день карантину 2.297486493178608\n",
      "в останній день карантину 2.5272351424964685\n",
      "в останній день карантину 2.7799586567461154\n",
      "в останній день карантину 3.057954522420727\n",
      "в останній день карантину 3.3637499746628\n",
      "в останній день карантину 3.70012497212908\n",
      "в останній день карантину 4.070137469341988\n",
      "в останній день карантину 4.477151216276186\n",
      "в останній день карантину 4.924866337903805\n",
      "в останній день карантину 5.417352971694186\n",
      "в останній день карантину 5.959088268863605\n",
      "в останній день карантину 6.5549970957499655\n",
      "в останній день карантину 7.210496805324962\n",
      "в останній день карантину 7.931546485857459\n",
      "Всього пробіг 90.47171247887525\n"
     ]
    }
   ],
   "source": [
    "a = 500\n",
    "s = 0\n",
    "\n",
    "for i in range (1, 31):  \n",
    "    print(\"в останній день карантину\",(a/1000))\n",
    "    a = a + a*0.1\n",
    "    s = s + a\n",
    "    \n",
    "print(\"Всього пробіг\",(s/1000))"
   ]
  },
  {
   "cell_type": "markdown",
   "metadata": {},
   "source": [
    "Завдання 9 \n",
    "Виведіть добуток всіх цілих чисел для послідовності -23, -22, -21, -20, ..., 8, 9, 10, 11, 12"
   ]
  },
  {
   "cell_type": "code",
   "execution_count": null,
   "metadata": {},
   "outputs": [],
   "source": [
    "s = 1\n",
    "for i in range (-23,13):\n",
    "    s = s*i\n",
    "    print (s)\n",
    "\n",
    "\n"
   ]
  },
  {
   "cell_type": "markdown",
   "metadata": {},
   "source": [
    "Завдання 10*\n",
    "    Вивести N-елементів послідовності чисел Фібоначчі\n",
    "    (Послідовність, де кожен наступний елемент дорівнює сумі двох попередніх;\n",
    "        перший та другий член послідовності дорівнює 1;\n",
    "        Приклад: 1, 1, 2, 3, 5, 8, 13, 21, 34, 55 ...)"
   ]
  },
  {
   "cell_type": "code",
   "execution_count": null,
   "metadata": {},
   "outputs": [],
   "source": [
    "a = 1\n",
    "b = 1\n",
    "i = 0\n",
    "while i < 10:\n",
    "    c = a + b\n",
    "    a = b\n",
    "    b = c\n",
    "    i += 1\n",
    "    print(c)\n",
    "    "
   ]
  },
  {
   "cell_type": "code",
   "execution_count": null,
   "metadata": {},
   "outputs": [],
   "source": [
    "a = 500\n",
    "n = 0\n",
    "# for i in range (1, 31):  \n",
    "\n",
    "while s <= 4200:\n",
    "    a = a + a*0.1\n",
    "    n = n + a\n",
    "    i += 1\n",
    "print(\"в останній день карантину\",(a/1000))    \n",
    "print(\"Всього пробіг\",(n/1000))\n",
    "print (i, 'днів потрібно бігати для 42 км')"
   ]
  },
  {
   "cell_type": "code",
   "execution_count": null,
   "metadata": {},
   "outputs": [],
   "source": []
  }
 ],
 "metadata": {
  "kernelspec": {
   "display_name": "Python 3",
   "language": "python",
   "name": "python3"
  },
  "language_info": {
   "codemirror_mode": {
    "name": "ipython",
    "version": 3
   },
   "file_extension": ".py",
   "mimetype": "text/x-python",
   "name": "python",
   "nbconvert_exporter": "python",
   "pygments_lexer": "ipython3",
   "version": "3.8.3"
  }
 },
 "nbformat": 4,
 "nbformat_minor": 4
}
