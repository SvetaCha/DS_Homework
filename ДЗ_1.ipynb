{
 "cells": [
  {
   "cell_type": "markdown",
   "metadata": {},
   "source": [
    "# Завдання 1\n",
    "\n",
    "Считайте 2 целых числа (каждое с новой строки) и найдите (каждый результат на новой строке):\n",
    " - сумму чисел\n",
    " - разность первого и второго\n",
    " - разность второго и первого\n",
    " - произведение\n",
    " - частное от деления первого на второе\n",
    " - остаток от деления второго на первое\n",
    " - первое число, возведённое в степень второго\n",
    "\n"
   ]
  },
  {
   "cell_type": "code",
   "execution_count": 7,
   "metadata": {},
   "outputs": [
    {
     "name": "stdout",
     "output_type": "stream",
     "text": [
      "5\n",
      "6\n",
      "11\n",
      "-1\n",
      "1\n",
      "30\n",
      "0.8333333333333334\n",
      "1\n",
      "15625\n"
     ]
    }
   ],
   "source": [
    "a = int (input())\n",
    "b = int (input())\n",
    "\n",
    "sum = a + b\n",
    "r_1 = a - b\n",
    "r_2 = b - a\n",
    "pr = a * b\n",
    "c = a / b\n",
    "c2 = b % a\n",
    "r = a ** b\n",
    "\n",
    "print (sum)\n",
    "print (r_1)\n",
    "print (r_2)\n",
    "print (pr)\n",
    "print (c)\n",
    "print (c2)\n",
    "print (r)\n"
   ]
  },
  {
   "cell_type": "markdown",
   "metadata": {},
   "source": [
    "# Завдання 2\n",
    "\n",
    "Считайте 2 числа, каждое с новой строки.Найдите целую часть от деления первого на второе."
   ]
  },
  {
   "cell_type": "code",
   "execution_count": 10,
   "metadata": {},
   "outputs": [
    {
     "name": "stdout",
     "output_type": "stream",
     "text": [
      "10\n",
      "3\n",
      "3\n"
     ]
    }
   ],
   "source": [
    "a = int (input())\n",
    "b = int (input())\n",
    "\n",
    "c = a // b\n",
    "print (c)"
   ]
  },
  {
   "cell_type": "markdown",
   "metadata": {},
   "source": [
    "# Завдання 3\n",
    "\n",
    "Даны длины 3 сторон треугольника (каждая с новой строки).\n",
    "Найдите:\n",
    " - Периметр треугольника\n",
    " - Площадь треугольника"
   ]
  },
  {
   "cell_type": "code",
   "execution_count": 13,
   "metadata": {},
   "outputs": [
    {
     "name": "stdout",
     "output_type": "stream",
     "text": [
      "5\n",
      "6\n",
      "7\n",
      "14\n",
      "7.0\n",
      "19.79898987322333\n"
     ]
    }
   ],
   "source": [
    "a = int (input())\n",
    "b = int (input())\n",
    "с = int (input())\n",
    "\n",
    "P = a + b + c\n",
    "\n",
    "p = P / 2\n",
    "\n",
    "S = (p*(p*(p - a)*(p - b)*(p - c)))** 0.5\n",
    "\n",
    "print (P)\n",
    "print (p)\n",
    "print (S)\n",
    "\n",
    "\n"
   ]
  },
  {
   "cell_type": "code",
   "execution_count": null,
   "metadata": {},
   "outputs": [],
   "source": []
  }
 ],
 "metadata": {
  "kernelspec": {
   "display_name": "Python 3",
   "language": "python",
   "name": "python3"
  },
  "language_info": {
   "codemirror_mode": {
    "name": "ipython",
    "version": 3
   },
   "file_extension": ".py",
   "mimetype": "text/x-python",
   "name": "python",
   "nbconvert_exporter": "python",
   "pygments_lexer": "ipython3",
   "version": "3.8.3"
  }
 },
 "nbformat": 4,
 "nbformat_minor": 4
}
