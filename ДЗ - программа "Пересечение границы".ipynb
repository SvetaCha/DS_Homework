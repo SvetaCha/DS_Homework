{
 "cells": [
  {
   "cell_type": "markdown",
   "metadata": {},
   "source": [
    "Напишіть програму \"Митниця\". Алгоритм її роботи наступний: програма на вхід получає імена людей, що перетинають кордон. \n",
    "\tВвід закінчується тоді, коли введено слово \"END\"\n",
    "\tПри завершені роботи, програма виводить ім’я людини та кількість перетинів кордону. \n",
    "    \n",
    "Хто перетинає кордон:\n",
    "\n",
    "\t\t>>>> Ігор\n",
    "\n",
    "\t\tХто перетинає кордон:\n",
    "\n",
    "\t\t>>>> Оля\n",
    "\n",
    "\t\tХто перетинає кордон:\n",
    "\n",
    "\t\t>>>> Ігор\t\t\n",
    "\n",
    "\t\tХто перетинає кордон:\n",
    "\n",
    "\t\t>>>> Ігор\t\t\n",
    "\t\t\n",
    "\t\tХто перетинає кордон:\n",
    "\n",
    "\t\t>>>> Андрій\n",
    "\n",
    "\t\tХто перетинає кордон:\n",
    "\n",
    "\t\t>>>> END\n",
    "\t\t\n",
    "\t\tІгор - 3\n",
    "\t\tОля - 1\n",
    "\t\tАндрій - 1"
   ]
  },
  {
   "cell_type": "code",
   "execution_count": 32,
   "metadata": {},
   "outputs": [
    {
     "name": "stdout",
     "output_type": "stream",
     "text": [
      "Хто перетинає кордон:ihor\n",
      "Хто перетинає кордон:ihor\n",
      "Хто перетинає кордон:serg\n",
      "Хто перетинає кордон:kate\n",
      "Хто перетинає кордон:end\n",
      "ihor : 2\n",
      "serg : 1\n",
      "kate : 1\n"
     ]
    }
   ],
   "source": [
    "def add_name (my_dict, name):\n",
    "    if name in my_dict:\n",
    "        my_dict[name] =  my_dict[name] + 1\n",
    "    else:\n",
    "        my_dict[name] = 1\n",
    "\n",
    "\n",
    "dict_with_name = {}\n",
    "\n",
    "while True:\n",
    "    name = input (\"Хто перетинає кордон:\")\n",
    "    \n",
    "    if name == 'end':\n",
    "        break\n",
    "        \n",
    "    add_name(dict_with_name, name)\n",
    "\n",
    "        \n",
    "for key in dict_with_name:\n",
    "    print(key, \":\", dict_with_name[key])"
   ]
  }
 ],
 "metadata": {
  "kernelspec": {
   "display_name": "Python 3",
   "language": "python",
   "name": "python3"
  },
  "language_info": {
   "codemirror_mode": {
    "name": "ipython",
    "version": 3
   },
   "file_extension": ".py",
   "mimetype": "text/x-python",
   "name": "python",
   "nbconvert_exporter": "python",
   "pygments_lexer": "ipython3",
   "version": "3.8.3"
  }
 },
 "nbformat": 4,
 "nbformat_minor": 4
}
